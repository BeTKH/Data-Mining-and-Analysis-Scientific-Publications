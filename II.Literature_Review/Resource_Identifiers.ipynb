{
 "cells": [
  {
   "cell_type": "markdown",
   "metadata": {},
   "source": [
    "# 2. Literature Review of Resource Identifiers\n",
    "\n",
    "\n",
    "### Introduction\n",
    "\n",
    "Identifiers are very common in our day-to-day life. Just like we have personal identification documents, like a passport, city registration ID, driving license, university ID, etc..., in the digital world as well we have digital identifiers that are used to identify or trace objects in an unambiguous way. As long as these identifiers remain valid, the objects they refer to can be identifiable and traceable over a period of time [[33]](http://resolver.sub.uni-goettingen.de/purl/?dariah-2014-1).  \n",
    "\n",
    "Each type of digital identifier can be evaluated in terms of persistence and uniqueness. Persistent and unique identifiers provide a reference to a research resource unambiguously even if the original file location is changed. Usually, these identifiers are machine-actionable, they can be used directly on a web browser, to resolve to the resource object they refer to [[35]](https://en.wikipedia.org/w/index.php?title=Persistent_identifier&oldid=1000109890). \n",
    "\n",
    "Some identifiers are used to identify a specific type of object only. For example, ISBN is used to identify a book but not a video. A video on YouTube, for instance, can be identified by its YouTube ID. On the other hand, there are general-purpose identifiers, like Archival Resource Keys (ARKs), which can be used to identify almost everything [[20]](https://n2t.net/e/ark_ids.html) [[36]](https://plumanalytics.com/identifiers-types-research-output/). \n",
    "\n",
    "This section presents a literature review of various kinds of digital identifiers that are used on the internet to refer to information resources or objects."
   ]
  },
  {
   "cell_type": "markdown",
   "metadata": {},
   "source": [
    "### 2.1. Uniform Resource Identifier (URI)\n",
    "\n",
    "A URI is used on the web to uniquely identify various types of resources. A URI is used to identify almost everything: objects, people, places, information resources such as books, web pages, etc. URIs that are used to locate resource objects on the internet are known as Uniform Resource Locators (URLs). Another variant of URI is Uniform Resource Name (URN) which provides a unique naming service to identify a research resource on the web  [[13]](https://en.wikipedia.org/w/index.php?title=Uniform_Resource_Identifier&oldid=1005623423) [[16]](https://wellcomecollection.org/works/h53jtszs).  \n",
    "\n",
    "A given URI not necessarily have to be categorized as a URI or a URL. Instances of URIs can have characteristics of a URL or a URN or even both. Therefore a URI can refer to a resource location, a resource name, or both. Usually, a URI has to be recalled by people, thus its sequence of characters should be meaningful rather than arbitrary [[14]](https://tools.ietf.org/html/rfc3986).\n",
    "\n",
    "A URN is a persistent and location-independent resource identifier that is oftentimes easy to integrate into other resource identification schemes [[34]](https://www.rfc-editor.org/info/rfc8141). Some URNs create a unique name to resource objects purely based on the URI schema definition, whereas other URNs create a unique name based on other non-URN identifier systems like ISBNs, ISSNs, or RFCs [[34]](https://www.rfc-editor.org/info/rfc8141). "
   ]
  },
  {
   "cell_type": "markdown",
   "metadata": {},
   "source": [
    "#### URL Syntax"
   ]
  },
  {
   "cell_type": "markdown",
   "metadata": {},
   "source": [
    "<p><img src=\"URL.JPG\" style=\"float:right;height:150px;\">Any URL has three parts: \n",
    "<ul align= \"left\">\n",
    "    <li><b>A protocol:</b> specifies which protocol to be used by the web server when accessing the URL. The internet uses various protocols for routing packets of data to the correct destination across the network. The most popular examples of internet protocols are HTTPS, HTTP, and FTP. <a herf=\"https://www.rfc-editor.org/info/rfc1945\">[15]</a>.</li>\n",
    "    <li><b>A host name: </b>maps to the IP address by a DNS server. Host name is composed of sub-domain, second-level domain (SLD), and top-level-domain(TLD). Examples of top-level-domain are <b>.com</b>, <b>.org</b>, <b>.de</b>, etc..) e.g https://www.uni-rostock.de/</li>  \n",
    "    <li><b>A path:</b> is a directory to the location of the file or resource.</li>\n",
    "</ul></p>"
   ]
  },
  {
   "cell_type": "markdown",
   "metadata": {},
   "source": [
    "#### Persistence and Uniqueness of URLs\n",
    "\n",
    "URLs are <b>not persistent</b>. For instance, 8% of URLs break right at publication [[4]](http://dx.doi.org/10.1016/j.neuron.2016.04.030). URLs break when objects are moved, removed, or replaced from the path specified in the URL. This phenomena is often known as <q>link rot</q> and results in an error token of <q>404 not found</q> [[16]](https://wellcomecollection.org/works/h53jtszs). This makes URLs not suitable for the citation of resources in the scientific literature. \n",
    "\n",
    "Each URL is <b>unique</b> because of the hostname which is a unique IP address associated with it."
   ]
  },
  {
   "cell_type": "markdown",
   "metadata": {},
   "source": [
    "### 2.2. Persistent Uniform Resource Locator (PURL)\n",
    "\n",
    "A PURL is a special kind of URL, developed by Ohio College Library Center (OCLC) in 1995. A PURL is basically a redirection service that redirects the PURL links to the current location of the resource on the internet. The concept of PURL is generic and can refer to any system that provides a re-direction service [[17]](https://en.wikipedia.org/w/index.php?title=Persistent_uniform_resource_locator&oldid=1005330951). \n",
    "\n",
    "In terms of functionality, a PURL is the same as a URL, the only difference is that a PURL points to an intermediate resolver. The resolver maps the PURL to the actual resource URL and returns it to the client. Due to the redirection service, PURLs are much more reliable than URLs, mitigate the problem of broken links [[18]](http://www.isoc.org/inet96/proceedings/a4/a4_1.htm)."
   ]
  },
  {
   "cell_type": "markdown",
   "metadata": {},
   "source": [
    "#### Syantx of PURL"
   ]
  },
  {
   "cell_type": "markdown",
   "metadata": {},
   "source": [
    "<img src=\"PURL3.JPG\" style=\"float:left;height:40px;\"></p>"
   ]
  },
  {
   "cell_type": "markdown",
   "metadata": {},
   "source": [
    "<p><img src=\"PURL.JPG\" style=\"float:right;height:181px;\">A PURL has three fundamental parts <a href=\"https://wellcomecollection.org/works/h53jtszs\">[16]</a><a href= \"http://www.isoc.org/inet96/proceedings/a4/a4_1.htm\">[18]</a>: \n",
    "<ol align= \"left\">\n",
    "    <li><b>A protocol:</b> is http:// for OCLC resolver.</li>\n",
    "    <li><b>A Resolver address: </b>is the IP address or domain name of the PURL resolver.</li>\n",
    "    <li><b>A Name:</b> is user-assigned and is resolved by the associated PURL Resolver.</li>\n",
    "</ol></p>\n",
    "<p><b>Example :</b></p>\n",
    "<img src=\"PURL2.JPG\" style=\"float:LEFT;height:110px;\">\n"
   ]
  },
  {
   "cell_type": "markdown",
   "metadata": {},
   "source": [
    "#### Persistence and Uniqueness of PURLs\n",
    "\n",
    "PURLs are **persistent** as long as the PURL revolvers are strictly maintained. This implies that persistence is primarily a matter of service and function of organizations that manage the resolver [[16]](https://wellcomecollection.org/works/h53jtszs). \n",
    "\n",
    "PURLs are **unique** because host name of a PURL resolver is unique. Due to persistence and uniqueness PURLs are suitable for citations of resources in the research.\n",
    "\n",
    "<b>FAQs</b> about PURLs can be found <a href=\"http://bibpurl.oclc.org/faq.html#toc1.2\"><b>here</b>.</a>\n",
    "\n",
    "***"
   ]
  },
  {
   "cell_type": "markdown",
   "metadata": {},
   "source": [
    "### 2.3. The Handle System (Handles)\n",
    "\n",
    "The handle system provides persistent identifiers, known as handles, to information resources. It also provides resolution service to the handles to locate resources [[22]](https://en.wikipedia.org/wiki/Handle_System). A unique identifier created by the handle system is known as a handle [[16]](https://wellcomecollection.org/works/h53jtszs). \n",
    "\n",
    "The handle system has been designed for a general-purpose naming service. The handle system includes a protocol, a namespace, and a reference implementation of the protocol. Each handle may have one or more administrator [[23]](https://www.rfc-editor.org/info/rfc3650) [[33]](http://resolver.sub.uni-goettingen.de/purl/?dariah-2014-1)."
   ]
  },
  {
   "cell_type": "markdown",
   "metadata": {},
   "source": [
    "#### Syntax of the Handle System"
   ]
  },
  {
   "cell_type": "markdown",
   "metadata": {},
   "source": [
    "<img src=\"HANDLE.JPG\" style=\"float:left;height:50px;\"></h4>"
   ]
  },
  {
   "cell_type": "markdown",
   "metadata": {},
   "source": [
    "Every handle has two parts:\n",
    "\n",
    "<ol><li><b>Pre-fix:</b> refers to the naming authority.</li>\n",
    "    <li><b>Suffix:</b> refers to the local name given under the naming authority.</li>\n",
    "</ol>\n",
    "\n",
    "The prefix and suffix are separated by an ASCII character “/ \". Any local name, under a given naming authority, must be unique. Each naming authority is globally unique. The uniqueness of the naming authority and a unique local name guarantees the handles to become globally unique [[23]](https://www.rfc-editor.org/info/rfc3650)."
   ]
  },
  {
   "cell_type": "markdown",
   "metadata": {},
   "source": [
    "<b>Example :</b> In <q>10.1045/january99-bearman</q> 10.1045 is a Naming Authority and its local name is <q>january99-bearman</q>."
   ]
  },
  {
   "cell_type": "markdown",
   "metadata": {},
   "source": [
    "#### Persistence and Uniqueness of handles\n",
    "\n",
    "Handles are globally unique and persistent identifiers because of their unique naming authority names which make them suitable for the unique naming and identification of information objects.\n",
    "\n",
    "<b>FAQs</b> about the Handle system can be found <a href=\"https://www.handle.net/faq.html\"><b>here</b>.</a>\n",
    "***"
   ]
  },
  {
   "cell_type": "markdown",
   "metadata": {},
   "source": [
    "### 2.4. Archival Resource Key (ARK)\n",
    "\n",
    "Introduced in 2001, an Archival Resource Key is a special kind of URI that serves as a **multi-purpose** persistent identifier. ARKs can be used for the identification of almost all kinds of information objects such as digital objects, physical objects, living beings, intangible objects, and even abstract concepts. [[19]](https://en.wikipedia.org/wiki/Archival_Resource_Key) [[20]](https://n2t.net/e/ark_ids.html).\n",
    "\n",
    "An ARK provides an actionable link to the resource object, its metadata, and a commitment statement. Unlike URL, PURL, and DOI where persistence statement is not exclusively stated, the ARK scheme provides a commitment statement about persistence of an identifier in terms of: (1) how long the identifier will be valid, (2) how long the resource object will be available, and (3) to what extent the content might vary in the future [[21]](https://www.researchgate.net/publication/228728574_Towards_electronic_persistence_using_ARK_identifiers)."
   ]
  },
  {
   "cell_type": "markdown",
   "metadata": {},
   "source": [
    "The design philosophy of the ARK states that <q><i> persistence is not only a matter of syntax, but it is purely a matter of service and maintenance</i></q>. Various classes of stakeholders exist that play a specific role in the maintenance of ARKs. "
   ]
  },
  {
   "cell_type": "markdown",
   "metadata": {},
   "source": [
    "\n",
    "\n",
    "<p><img src=\"ARK Structure.JPG\" style=\"float:right;height:180px;\">Three main classes of stakeholders in the administration of the ARKs are: \n",
    "<ol align= \"left\">\n",
    "    <li> ARK Maintenance Agency (<b>AMA</b>):</li>\n",
    "    <li> (One or more) Name Assigning Authority(ies) (<b>NAA</b>)</li>\n",
    "    <li> Name Mapping Authority Host (<b>NMAH</b>)</li>\n",
    "</ol> \n",
    "</p>\n",
    "\n",
    "ARKs are assigned to a resource by a Name Assigning Authority (NAA) or by a body authorized by NAA. All NAAs register to AMA to get their unique NANN (Name Assigning Authority Number). Once NAA is registered under AMA, its NAAN is permanent and will be kept in the registry of AMA for as long as the ARK system operates (into the indefinite future) [[16]](https://wellcomecollection.org/works/h53jtszs)"
   ]
  },
  {
   "cell_type": "markdown",
   "metadata": {},
   "source": [
    "#### Syntax of the ARK"
   ]
  },
  {
   "cell_type": "markdown",
   "metadata": {},
   "source": [
    "<p style=\"font-family:consolas\">The syntax of ARK is: <b>[http://NMA/]ark:/NAAN/Name[Qualifier]</b>.</p>  \n",
    "\n",
    "- When ARK is part of a URL, the http:// or https:// protocol precedes a label <q>ark:</q>. \n",
    "- Name Mapping Authority (NMA): is a mutable part of ARK and it refers to a particular resolver. \n",
    "- Name Assigning Authority Number (NAAN): is a globally unique and non-mutable part of an ARK. \n",
    "- Name: is the name assigned to the resource object. \n",
    "- Qualifier: is an optional string that extends the functionality of the base ARK so that it can support the identification of sub-components of the whole object. This feature makes an ARK granular.  For example, to identify a particular image in a given publication <a herf=\"https://n2t.net/e/ark_ids.html\">[20]</a>. \n",
    "\n",
    "<b>Example of ARK</b>:\n",
    "\n",
    "<img src=\"ARK.JPG\" style=\"float:LEFT;height:180px;\">"
   ]
  },
  {
   "cell_type": "markdown",
   "metadata": {},
   "source": [
    "#### Persistence and Uniqueness of ARKs\n",
    "\n",
    "ARKs are **persistent and unique** identifiers that can be used to identify any type of resource object like digital documents, databases, software, websites, etc. [[21]](https://www.researchgate.net/publication/228728574_Towards_electronic_persistence_using_ARK_identifiers).\n",
    "\n",
    "<b>FAQs</b> about ARKs can be found <a href=\"https://wiki.lyrasis.org/display/ARKs/ARK+Identifiers+FAQ\"><b>here</b>.</a>\n",
    "\n",
    "***"
   ]
  },
  {
   "cell_type": "markdown",
   "metadata": {},
   "source": [
    "### 2.5. Digital object identifier (DOI)"
   ]
  },
  {
   "cell_type": "markdown",
   "metadata": {},
   "source": [
    "The DOI is built on the top of the handle system. Thus persistent identifiers in DOIs are as well known as handles just like in the handle system. DOIs are widely used in the identification of academic journal articles, research reports, data sets, and official publications [[24]](https://en.wikipedia.org/wiki/Digital_object_identifier).\n",
    "\n",
    "DOI differs from other types of unique identifiers, like ISBN [[25]](https://en.wikipedia.org/w/index.php?title=International_Standard_Book_Number&oldid=1002115104) which are used to identify books, in that a DOI is actionable and interoperable. A DOI is not meant to replace other classical schemes, like ISAN, ISBN, ISRC, etc, rather it was designed to operate in an interoperable fashion because it can integrate other identifier schemes into its metadata which makes it more robust [[16]](https://wellcomecollection.org/works/h53jtszs)."
   ]
  },
  {
   "cell_type": "markdown",
   "metadata": {},
   "source": [
    "#### Administration of DOIs\n",
    "\n",
    "The International DOI Foundation **(IDF)** manages the DOI. IDF collaborates with a company that developed the handle system, Corporation for National Research Initiatives **(CNRI)**. \n",
    "\n",
    "Some roles of the IDF include: \n",
    "- Promoting proper use of the DOI system.\n",
    "- Maintaining the DOI system technical infrastructures.\n",
    "- Establishing guidelines for allocation, registration, and use of DOIs, etc.\n",
    "\n",
    "Other participants that involve in the administration of DOIs are Registration Agencies (RAs) and registrants (end-users). Registration Agencies are members of the IDF, that pay an annual membership fee to the IDF and provide registration service to the end-users. Each Registration Agency is autonomous and owns its own numbering scheme depending upon its target group of end-users [[16]](https://wellcomecollection.org/works/h53jtszs) [[32]](https://www.doi.org/doi_handbook/7_IDF.html)."
   ]
  },
  {
   "cell_type": "markdown",
   "metadata": {},
   "source": [
    "#### Syntax of DOI: prefix/suffix"
   ]
  },
  {
   "cell_type": "markdown",
   "metadata": {},
   "source": [
    "The DOI, as well, has two parts:\n",
    "\n",
    "<ol><li><b>Pre-fix:</b> identifies a registrant of the identifier.</li>\n",
    "    <li><b>Suffix:</b> is chosen by the registrant for its resource object.</li>\n",
    "</ol>"
   ]
  },
  {
   "cell_type": "markdown",
   "metadata": {},
   "source": [
    "<b>Example :</b> In the DOI <q>10.1000/182</q>, the prefix is `10.100` and the suffix is `182`. Part of the pre-fix, `10`, indicates this particular identifier is a DOI type. The suffix `182` identifies a single resource object [[24]](https://en.wikipedia.org/wiki/Digital_object_identifier)."
   ]
  },
  {
   "cell_type": "markdown",
   "metadata": {},
   "source": [
    "#### Persistance and uniqueness of DOIs\n",
    "\n",
    "DOIs serve as unique, persistent, actionable, and inter-operable resource identifiers.\n",
    "<b>FAQs</b> about DOIs can be found <a href=\"https://www.doi.org/faq.html\"><b>here</b>.</a>\n",
    "***"
   ]
  },
  {
   "cell_type": "markdown",
   "metadata": {},
   "source": [
    "### 2.6. PubMed Identifier (PMID)\n",
    "\n",
    "PMID is a very specific type of unique identifier used in the [PubMed](https://pubmed.ncbi.nlm.nih.gov/about/) database. It is a unique integer value within PubMed starting from integer value 1 [[26]](https://en.wikipedia.org/w/index.php?title=PubMed&oldid=1004640436). \n",
    "\n",
    "PMID is not the same as PubMed Central identifier (PMCID). PMCID is used as a unique identifier in the Pub Med Central ([PMC](https://www.ncbi.nlm.nih.gov/pmc/about/intro/)) digital repository. PMCID is composed of a string `PMC` and a string of 7 numbers. Example: `PMCID: PMC1852221` [[27]](https://en.wikipedia.org/w/index.php?title=PubMed_Central&oldid=1002847623). \n",
    "\n",
    "PMID, PMCID, and DOI are standard identifiers that are used to find a scientific article in the PubMed Central repository [[28]](https://www.ncbi.nlm.nih.gov/pmc/pmctopmid/). \n",
    "\n",
    "Examples: \n",
    "\n",
    "- PMID - e.g. 23193287\n",
    "- PMCID - e.g. PMC3531190\n",
    "- DOI: e.g. 10.1093/nar/gks1195"
   ]
  },
  {
   "cell_type": "markdown",
   "metadata": {},
   "source": [
    "### 2.7. Research Resource Identifier (RRID)\n",
    "\n",
    "RRID is introduced by resource identification initiative in 2014 to promote reproducibility of results of research in life sciences. Particularly, RRIDs are used to uniquely identify research resources used in life science research such as antibodies, cell lines, plasmids, etc. [[29]](https://doi.org/10.12688/f1000research.6555.2) "
   ]
  },
  {
   "cell_type": "markdown",
   "metadata": {},
   "source": [
    "#### Syntax of RRID `RRID:prefix_identifier`\n",
    "\n",
    "The Resource Identification Initiative (RII) specified the syntax of RRIDs  as follows: `RRID:prefix_Identifier`\n",
    "\n",
    "**1. The prefix:** indicates the source registry (database). \n",
    "\n",
    "Example: \n",
    "- `SCR` is a prefix for all source registries (databases) as well as software.\n",
    "- `AB` is a prefix for antibody.\n",
    "- `NXR` is a prefix for model organisms.\n",
    "- `CVCL` is a prefix for the Cell line.\n",
    "\n",
    "A list of RRID prefixes [[31]](https://doi.org/10.1109/MCSE.2019.2952838) can be found [here](http://tiny.cc/0a1y7y).\n",
    "\n",
    "**2. The Identifier:** is an accession number given to a resource by a source database that manages a particular type of resource. \n",
    "\n",
    "Examples: \n",
    "\n",
    "- On `RRID:SCR_005400`, `SCR` indicates the resource is source registry(database) and `005400` is a number assigned to the Sci-Crunch Registry, in the same way from `RRID:SCR_006397`,`SCR` indicates the resource is source registry(database) and  `006397` is a number assigned to the Antibody Registry."
   ]
  },
  {
   "cell_type": "markdown",
   "metadata": {},
   "source": [
    "#### Persistence and Uniqueness"
   ]
  },
  {
   "cell_type": "markdown",
   "metadata": {},
   "source": [
    "- RRIDs are persistent and Unique identifiers used to identify research resources in biomedical research works. Actionable links to RRID keys can also be provided by researchers like `https://www.scicrunch.org/resolver/RRID:SCR_016400`."
   ]
  }
 ],
 "metadata": {
  "kernelspec": {
   "display_name": "Python 3",
   "language": "python",
   "name": "python3"
  },
  "language_info": {
   "codemirror_mode": {
    "name": "ipython",
    "version": 3
   },
   "file_extension": ".py",
   "mimetype": "text/x-python",
   "name": "python",
   "nbconvert_exporter": "python",
   "pygments_lexer": "ipython3",
   "version": "3.7.5"
  }
 },
 "nbformat": 4,
 "nbformat_minor": 2
}
