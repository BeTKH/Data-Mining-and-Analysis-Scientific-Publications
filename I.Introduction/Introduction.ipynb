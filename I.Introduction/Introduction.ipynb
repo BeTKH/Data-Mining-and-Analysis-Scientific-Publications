{
 "cells": [
  {
   "cell_type": "markdown",
   "metadata": {},
   "source": [
    "# 1. Introduction\n",
    "***"
   ]
  },
  {
   "cell_type": "markdown",
   "metadata": {},
   "source": [
    "## 1.1. Overview\n",
    "\n",
    "In the 21<sup>st</sup> century outputs of research in terms of number of publications, software, research datasets, etc. has increased tremendously [[1]](https://doi.org/10.1007/s11192-010-0202-z) [[2]](http://blogs.nature.com/news/2014/05/global-scientific-output-doubles-every-nine-years.html).  This development has invoked a need for proper citation and unique identification of *research resources* without which *reproducibility* of results of the research would be challenging or even impossible [[3]](https://doi.org/10.7717/peerj.148). \n",
    "\n",
    "Research resources in life science, refer to software or key biological reagents such as Cell Lines, Antibodies, specialty chemicals, etc. that directly determine the results of an experiment [[4]](http://dx.doi.org/10.1016/j.neuron.2016.04.030) [[29]](https://doi.org/10.12688/f1000research.6555.2). \n",
    "\n",
    "According to an ISO standard, reproducibility refers to <q><i>the ability of scientists to reproduce the results of an experiment conducted by other researchers using the same method and test materials in a different laboratory using different equipment </i></q> [[3]](https://doi.org/10.7717/peerj.148) [[9]](https://www.iso.org/standard/11833.html).\n",
    "\n",
    "One of the ways authors cite research resources is using digital identifiers. Digital identifiers have to be persistent and unique to guarantee reproducibility of results of given research work. \n",
    "\n",
    "One example of such digital identifiers is URL. However, URLs are not persistent as they often times break whenever the resource is moved or removed. For this reason, various persistent and unique digital identifiers like PURLs, Digital Object Identifiers (DOIs), Archival Resource Keys (ARKs), Research Resource Identifiers (RRIDs), etc. have been developed over the years to serve the identification of objects in a persistent manner. Research Resource Identifiers (RRIDs) are different from other digital identifiers in that, they are objectively developed to uniquely and persistently identify research resources to guarantee reproducibility of results of research work particularly in the life science area. "
   ]
  },
  {
   "cell_type": "markdown",
   "metadata": {},
   "source": [
    "## 1.2. Problem Statement\n",
    "\n",
    "\n",
    "Several studies have shown that it was not possible to reproduce the results of research from the research papers. This was mainly because of the fact that researchers did not provide sufficient information or quite often the authors provided insufficient metadata about research resources they used. As a result, it has been very hard to uniquely distinguish the research resources and reproduce the results of research [[29]](https://doi.org/10.12688/f1000research.6555.2) [[3]](https://doi.org/10.7717/peerj.148). \n",
    "\n",
    "According to an experiment conducted in 2013, to estimate how much of the biomedical research resources are identifiable, only 54% of the research resources were uniquely identifiable in publications regardless of the domain, journal impact factor, or reporting requirements [[3]](https://doi.org/10.7717/peerj.148). Another report from researchers at the Amgen Corporation, Thousand Oaks California reinforces the same fact that only 11% of the academic research in the literature was reproduced using the citations provided in those publications [[8]](https://doi.org/10.1038/483531a).\n",
    "\n",
    "\n",
    "On the other hand, poor data citation practices by authors have also contributed to the problem of uniquely identifying research resources. This was mainly due to unstandardized data citation practices which fail to support the reproducibility of results of research.  One example of such poor data citation practice is, citing the research resource by a company name or company location. Clearly, this practice is not reliable because the name and location of companies change for various reasons. Furthermore, vendor companies re-sell a product of other companies by giving another catalog number, in this case, a given research resource might have several catalog numbers one assigned by a product maker, others assigned by vendors further complicating the challenge to identify a resource [[4]](http://dx.doi.org/10.1016/j.neuron.2016.04.030) [[29]](https://doi.org/10.12688/f1000research.6555.2). \n",
    " \n",
    "\n",
    "Resources can be cited in a research paper by various means, one way is by using digital identifiers. On the web, for instance, a rudimentary way to locate research resources is using a Uniform Resource Locator ([URL](https://en.wikipedia.org/wiki/URL)). The problem is that 8% of URLs break at publication and 25% of the links do not work after 5 years [[4]](http://dx.doi.org/10.1016/j.neuron.2016.04.030). Therefore, instead of relying on a URL for the citation of research resources on scientific publications, a persistent and globally unique identifier must be used to uniquely identify and retrieve a research resource to guarantee reproducibility."
   ]
  },
  {
   "cell_type": "markdown",
   "metadata": {},
   "source": [
    "## 1.3. Measures Taken\n",
    "\n",
    "To overcome the problems listed above, a community of researchers and governmental institutions for biomedical and public health research like the [NIH](https://en.wikipedia.org/wiki/National_Institutes_of_Health), have been working towards improving the reproducibility of research results [[6]](https://doi.org/10.1038/505612a ) [[7]](http://dx.doi.org/10.1038/nature.2015.17652). For Instance, NIH has launched a Neuroscience Information Framework (NIF) which developed a registry (database) for antibodies to support the identification of antibodies from publications [[3]](https://doi.org/10.7717/peerj.148). \n",
    "\n",
    "The Force11 community, an international collaboration of researchers and scientists, also has published a set of data citation principles known as the Joint Declaration of Data Citation Principles (JDDCP) to promote reproducibility of scientific research [[10]](https://en.wikipedia.org/w/index.php?title=FORCE11&oldid=994736679) [[11]](https://www.force11.org/group/joint-declaration-data-citation-principles-final). \n",
    "\n",
    "A practical [guide](https://doi.org/10.1038/s41597-019-0031-8) to implement the data citation principles of JDDCP\n",
    "for a life science has also been developed by the Repositories Expert Group for the Data Citation Implementation Pilot (DCIP) project.  This guide states 11 specific recommendations for data citation, out of which 5 are mandatory recommendations that are directly derived from JDDCP (which ensure reproducibility of research). These 5 mandatory recommendations  [[12]](https://doi.org/10.1038/s41597-019-0031-8) are:\n",
    "\n",
    "<ol>\n",
    "    <li>A data citation must provide a unique, persistent, and machine-actionable identifier. </li>\n",
    "    <li>Persistent identifiers must be granular that support identification of a resource object as a whole as well as its components.</li>\n",
    "    <li>Persistent identifiers must resolve to a <q>landing page</q> that contains metadata about the resource object.</li>\n",
    "    <li>On the landing page, persistent identifiers must be available in human-readable and machine-readable formats, using HTML tags for instance.  This helps to verify the resolution of the resource is correct or not. </li>\n",
    "    <li>The resolution, on the landing page, must provide documentation about how to cite the data, obtain metadata, etc.</li>\n",
    "</ol>\n",
    "\n",
    "**Example:** landing [page](https://www.scicrunch.org/resolver/RRID:SCR_016400) of the Sci-Crunch Repository.\n",
    "\n",
    "Most importantly, a special kind of identifier known as <b>Research Resource Identifier (RRID) </b> was introduced in 2014, by the Resource Identification Initiative (RII). The RII was launched by NIF in collaboration with the Force11 scientific community. RRIDs were designed by RII based on JDDCP principles, to be globally unique and persistent identifiers that help to better identify and track the use of research resources in the scientific literature and overcome the problems listed above. According to a pilot project, run by RII in 2014, the use of RRIDs significantly increased the unique identification of research resources [[29]](https://doi.org/10.12688/f1000research.6555.2). \n",
    "\n",
    "Sci-Crunch repository has also been developed to provide a common source of data for researchers. Authors can check for RRIDs at Sci-Crunch [portal](http://scicrunch.org/resources). Sci-Crunch also provides a resolution service for RRID keys at the sci_crunch [resolver](https://www.scicrunch.org/resolver). Creation of new RRIDs is also possible if a resource is not registered before [[12]](https://doi.org/10.1038/s41597-019-0031-8) [[30]]( https://en.wikipedia.org/w/index.php?title=SciCrunch&oldid=992772321) [[31]](https://doi.org/10.1109/MCSE.2019.2952838)."
   ]
  },
  {
   "cell_type": "markdown",
   "metadata": {},
   "source": [
    "## 1.4. Objectives of the project\n",
    "\n",
    "\n",
    "In this project, first literature review of various kinds of digital identifiers has been done. Then citations of research resources (RRIDs) have been extracted from 3.2 million PubMed publications (over 15,000 journals) and then the results have been analyzed to answer the following questions: \n",
    "\n",
    "- How effective RRIDs have been to uniquely identify the research resources? \n",
    "- How well the authors have been using the RRIDs so far? \n",
    "- What type of research resource type is popular in the Journals? \n",
    "- Is the use of RRID citations becoming popular or not?\n",
    "- What type of software is popular among researchers? \n",
    "- How many journals out of over 15k journals in PubMed use RRID citations? \n",
    "- What journals use software resources extensively? ... etc. "
   ]
  }
 ],
 "metadata": {
  "kernelspec": {
   "display_name": "Python 3",
   "language": "python",
   "name": "python3"
  },
  "language_info": {
   "codemirror_mode": {
    "name": "ipython",
    "version": 3
   },
   "file_extension": ".py",
   "mimetype": "text/x-python",
   "name": "python",
   "nbconvert_exporter": "python",
   "pygments_lexer": "ipython3",
   "version": "3.7.5"
  }
 },
 "nbformat": 4,
 "nbformat_minor": 2
}
