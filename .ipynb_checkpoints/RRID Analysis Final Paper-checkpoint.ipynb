{
 "cells": [
  {
   "cell_type": "markdown",
   "metadata": {
    "tags": [
     "Date"
    ]
   },
   "source": [
    "<h2 style=\"font-family:Garamond ;font-size:170%\"> <img src=\"uni.png\" style=\"float:right;height:120=1px;width:121px;\">Report for Master Module: Specialization Electrical Engineering</h2>\n",
    "<h1 style=\"font-family:Garamond ;font-size:225%\"> Analysis of Software Research Resource Citations in Scientific Literature Using Research Resource Identifiers (<a href=\"https://en.wikipedia.org/wiki/SciCrunch\">RRIDs</a>)</h1>"
   ]
  },
  {
   "cell_type": "markdown",
   "metadata": {},
   "source": [
    "<p style=\"color:black;background-color:white;font-family:Garamond;font-size:130%;text-align:left;\" >\n",
    "<b>Author:</b> Kobro, Bekalue Tadesse<br>\n",
    "<b>Supervisor:</b> M.Sc. David Schindler<br>\n",
    "<b>Master Course:</b> Electrical Engineering<br>\n",
    "<b>Matriculation Number:</b> 218205220<br>\n",
    "<b>E-Mail:</b> bekalue.kobro@uni-rostock.de /bekpostgrad@gmail.com<br>\n",
    "<b>Date of Submission:</b> March 1<sup>st</sup>, 2021<br>\n",
    "University of Rostock, Germany\n",
    "</p>"
   ]
  },
  {
   "cell_type": "markdown",
   "metadata": {},
   "source": [
    "<h1 style=\"font-family:Garamond ;font-size:250%\">Table of Contents</h1>"
   ]
  },
  {
   "cell_type": "markdown",
   "metadata": {},
   "source": [
    "## [1. Introduction](I.Problem_Statement/Introduction.ipynb)\n",
    "\n",
    "<p style=\"color:black;background-color:white;font-family:Garamond;font-size:160%;margin-left: 40px;\">1.1. Overview</p>\n",
    "<p style=\"color:black;background-color:white;font-family:Garamond;font-size:160%;margin-left: 40px;\">1.2. Problem Statement</p>\n",
    "<p style=\"color:black;background-color:white;font-family:Garamond;font-size:160%;margin-left: 40px;\">1.3. Measures Taken </p>\n",
    "<p style=\"color:black;background-color:white;font-family:Garamond;font-size:160%;margin-left: 40px;\">1.4. Objectives of the Project</p>"
   ]
  },
  {
   "cell_type": "markdown",
   "metadata": {},
   "source": [
    "## [2. Literature Review of Resource Identifiers](II.Literature_Review/Resource_Identifiers.ipynb)"
   ]
  },
  {
   "cell_type": "markdown",
   "metadata": {},
   "source": [
    "<p style=\"color:black;background-color:white;font-family:Garamond;font-size:160%;margin-left: 40px;\">2.1. Uniform Resource Identifier (URI)</p>\n",
    "<p style=\"color:black;background-color:white;font-family:Garamond;font-size:160%;margin-left: 40px;\">2.2. Persistent Uniform Resource Locator (PURL)</p>\n",
    "<p style=\"color:black;background-color:white;font-family:Garamond;font-size:160%;margin-left: 40px;\">2.3. The Handle System (Handles) </p>\n",
    "<p style=\"color:black;background-color:white;font-family:Garamond;font-size:160%;margin-left: 40px;\">2.4. Archival Resource Key (ARK)</p>\n",
    "<p style=\"color:black;background-color:white;font-family:Garamond;font-size:160%;margin-left: 40px;\">2.5. Digital Object Identifier (DOI)</p>\n",
    "<p style=\"color:black;background-color:white;font-family:Garamond;font-size:160%;margin-left: 40px;\">2.6. PubMed Identifier  (PMID)</p>\n",
    "<p style=\"color:black;background-color:white;font-family:Garamond;font-size:160%;margin-left: 40px;\">2.7. Research Resource Identifier (RRID)</p>"
   ]
  },
  {
   "cell_type": "markdown",
   "metadata": {},
   "source": [
    "## [3. RRID  Analysis](III.RRID_Analysis/3.RRID_Analysis.ipynb)\n",
    "\n",
    "\n",
    "<p style=\"color:black;background-color:white;font-family:Garamond;font-size:160%;margin-left: 40px;\">3.1. Exploratory Analysis of PubMed Publications</p>\n",
    "<p style=\"color:black;background-color:white;font-family:Garamond;font-size:160%;margin-left: 40px;\">3.2. RRID Extraction from  publications using Regular Expressions</p>\n",
    "<p style=\"color:black;background-color:white;font-family:Garamond;font-size:160%;margin-left: 40px;\">3.3. RRID Analysis</p>\n",
    "<p style=\"color:black;background-color:white;font-family:Garamond;font-size:160%;margin-left: 40px;\">3.4. Summary  and Future Work</p>"
   ]
  },
  {
   "cell_type": "markdown",
   "metadata": {},
   "source": [
    "<h1 style=\"font-family:Garamond ;font-size:250%\">References</h1>"
   ]
  },
  {
   "cell_type": "markdown",
   "metadata": {},
   "source": [
    "[1] Larsen, P. O., & von Ins, M. (2010). The rate of growth in scientific publication and the decline in coverage provided by Science Citation Index. Scientometrics, 84(3), 575–603. https://doi.org/10.1007/s11192-010-0202-z\n",
    "\n",
    "[2]  Noorden, Richard  Van. “Global Scientific Output Doubles Every Nine Years.” Nature, 14 May 2014. http://blogs.nature.com/news/2014/05/global-scientific-output-doubles-every-nine-years.html\n",
    "\n",
    "[3] Vasilevsky NA, Brush MH, Paddock H, Ponting L, Tripathy SJ, LaRocca GM, Haendel MA. 2013. On the reproducibility of science: unique identification of research resources in the biomedical literature. PeerJ 1:e148 https://doi.org/10.7717/peerj.148\n",
    "\n",
    "[4] Bandrowski AE, Martone ME. RRIDs: A Simple Step toward Improving Reproducibility through Rigor and Transparency of Experimental Methods. Neuron. 2016 May 4;90(3):434-6. PMID: 27151636; PMCID: PMC5854161. http://dx.doi.org/10.1016/j.neuron.2016.04.030\n",
    "\n",
    "[5] Ozyurt IB, Grethe JS, Martone ME, Bandrowski AE (2016) Resource Disambiguator for the Web: Extracting Biomedical Resources and Their Citations from the Scientific Literature. PLoS ONE 11(1): e0146300. https://doi.org/10.1371/journal.pone.0146300\n",
    "\n",
    "[6] Francis S. Collins& Lawrence A. Tabak (27 January 2014) Policy: NIH plans to enhance reproducibility. Nature 505, 612–613 https://doi.org/10.1038/505612a \n",
    "\n",
    "[7] Chawla, D.S. (2015) Researchers argue for standard format to cite lab resources. Nature 29, http://dx.doi.org/10.1038/nature.2015.17652\n",
    "\n",
    "\n",
    "[8] Begley, C., Ellis, L. Raise standards for preclinical cancer research. Nature 483, 531–533 (2012). https://doi.org/10.1038/483531a\n",
    "\n",
    "[9] ISO 5725-1:1994. 1994. Accuracy (trueness and precision) of measurement methods and results.\n",
    "Geneva, Switzerland https://www.iso.org/standard/11833.html\n",
    "\n",
    "[10] Wikipedia contributors, \"FORCE11,\" Wikipedia, The Free Encyclopedia, https://en.wikipedia.org/w/index.php?title=FORCE11&oldid=994736679 (accessed February 7, 2021)\n",
    "\n",
    "[11] Data Citation Synthesis Group: Joint Declaration of Data Citation Principles. Martone M. (ed.) San Diego CA: FORCE11; 2014 https://www.force11.org/group/joint-declaration-data-citation-principles-final\n",
    "\n",
    "[12] Fenner, M., Crosas, M., Grethe, J.S. et al. A data citation roadmap for scholarly data repositories. Sci Data 6, 28 (2019). https://doi.org/10.1038/s41597-019-0031-8\n",
    "\n",
    "[13] Wikipedia contributors, \"Uniform Resource Identifier,\" Wikipedia, The Free Encyclopedia, https://en.wikipedia.org/w/index.php?title=Uniform_Resource_Identifier&oldid=1005623423 (accessed February 8, 2021).\n",
    "\n",
    "[14] Berners-Lee, T., Fielding, R., and L. Masinter, \"Uniform Resource Identifiers (URI): Generic Syntax\", RFC 2396, DOI 10.17487/RFC2396, August 1998, <https://tools.ietf.org/html/rfc3986>.\n",
    "\n",
    "[15] Berners-Lee, T., Fielding, R., and H. Frystyk, \"Hypertext Transfer Protocol -- HTTP/1.0\", RFC 1945, DOI 10.17487/RFC1945, May 1996, <https://www.rfc-editor.org/info/rfc1945>.\n",
    "\n",
    "[16] Hilse, Hans-Werner & Kothe, Jochen. (2006). Implementing Persistent Identifiers. Consortium of European Research Libaries and European Commission on Perservation and Access. <https://wellcomecollection.org/works/h53jtszs> \n",
    "\n",
    "[17] Wikipedia contributors, \"Persistent uniform resource locator,\" Wikipedia, The Free Encyclopedia, https://en.wikipedia.org/w/index.php?title=Persistent_uniform_resource_locator&oldid=1005330951 (accessed February 9, 2021)\n",
    "\n",
    "[18] Keith Shafer, Stuart Weibel, Erik Jul, Jon Fausey, Introduction to Persistent Uniform Resource Locators , OCLC Online Computer Library Center, Inc. 6565 Frantz Road, Dublin, Ohio 43017-3395 http://www.isoc.org/inet96/proceedings/a4/a4_1.htm\n",
    "\n",
    "[19] Wikipedia contributors, \"Archival Resource Key,\" Wikipedia, The Free Encyclopedia, https://en.wikipedia.org/w/index.php?title=Archival_Resource_Key&oldid=975410075 (accessed February 9, 2021)\n",
    "\n",
    "[20] Archival Resource Key (ARK) Identifiers https://n2t.net/e/ark_ids.html\n",
    "\n",
    "[21] Kunze, John. (2003). Towards electronic persistence using ARK identifiers. https://www.researchgate.net/publication/228728574_Towards_electronic_persistence_using_ARK_identifiers\n",
    "\n",
    "[22] Wikipedia contributors, \"Handle System,\" Wikipedia, The Free Encyclopedia, https://en.wikipedia.org/w/index.php?title=Handle_System&oldid=1001315237 (accessed February 10, 2021)\n",
    "\n",
    "[23] Sun, S., Lannom, L., and B. Boesch, \"Handle System Overview\", RFC 3650, DOI 10.17487/RFC3650, November 2003, <https://www.rfc-editor.org/info/rfc3650>.\n",
    "\n",
    "[24] Wikipedia contributors, \"Digital object identifier,\" Wikipedia, The Free Encyclopedia, https://en.wikipedia.org/w/index.php?title=Digital_object_identifier&oldid=1005651357 (accessed February 10, 2021).\n",
    "\n",
    "[25] Wikipedia contributors, \"International Standard Book Number,\" Wikipedia, The Free Encyclopedia, https://en.wikipedia.org/w/index.php?title=International_Standard_Book_Number&oldid=1002115104 (accessed February 10, 2021)\n",
    "\n",
    "[26] Wikipedia contributors, \"PubMed,\" Wikipedia, The Free Encyclopedia, https://en.wikipedia.org/w/index.php?title=PubMed&oldid=1004640436 (accessed February 10, 2021).\n",
    "\n",
    "[27] Wikipedia contributors, \"PubMed Central,\" Wikipedia, The Free Encyclopedia, https://en.wikipedia.org/w/index.php?title=PubMed_Central&oldid=1002847623 (accessed February 10, 2021)\n",
    "\n",
    "[28] US National Library of Medicine ,NIH. https://www.ncbi.nlm.nih.gov/pmc/pmctopmid/\n",
    "\n",
    "[29] Bandrowski A, Brush M, Grethe JS et al. The Resource Identification Initiative: A cultural shift in publishing [version 2; peer review: 2 approved]. F1000Research 2015, 4:134 (https://doi.org/10.12688/f1000research.6555.2)\n",
    "\n",
    "[30] Wikipedia contributors, \"SciCrunch,\" Wikipedia, The Free Encyclopedia, https://en.wikipedia.org/w/index.php?title=SciCrunch&oldid=992772321 (accessed February 11, 2021)\n",
    "\n",
    "[31] C. -N. Hsu et al., \"Comparing the Use of Research Resource Identifiers and Natural Language Processing for Citation of Databases, Software, and Other Digital Artifacts,\" in Computing in Science & Engineering, vol. 22, no. 2, pp. 22-32, March-April 2020, https://doi.org/10.1109/MCSE.2019.2952838.\n",
    "\n",
    "[32] International DOI Foundation https://www.doi.org/doi_handbook/7_IDF.html\n",
    "\n",
    "[33] Interdisciplinary Interoperability. Beer, N.; Herold, K.; Kolbmann, W.; Kollatz, T.; Romanello, M.; Rose, S.; and Walkowski, N. Volume 3 of DARIAH-DE Working Papers, Göttingen, 2014 http://resolver.sub.uni-goettingen.de/purl/?dariah-2014-1\n",
    "\n",
    "[34] Saint-Andre, P. and J. Klensin, \"Uniform Resource Names (URNs)\", RFC 8141, DOI 10.17487/RFC8141, April 2017, <https://www.rfc-editor.org/info/rfc8141>\n",
    "\n",
    "[35] Wikipedia contributors, \"Persistent identifier,\" Wikipedia, The Free Encyclopedia, https://en.wikipedia.org/w/index.php?title=Persistent_identifier&oldid=1000109890 (accessed February 14, 2021)\n",
    "\n",
    "[36] Parkhill, M. (2016). \"Identifiers for All Types of Research Output\",  *Plum Analytics*, 11 November, https://plumanalytics.com/identifiers-types-research-output/ (accessed February 14, 2021)\n",
    "\n",
    "[37] Wikipedia contributors, \"Exploratory data analysis,\" Wikipedia, The Free Encyclopedia, https://en.wikipedia.org/w/index.php?title=Exploratory_data_analysis&oldid=1004413195 (accessed February 15, 2021).\n",
    "\n",
    "[38] Nguyen DQ, Brown CW, Pegler JL, Eamens AL, Grof CPL. Molecular Manipulation of MicroRNA397 Abundance Influences the Development and Salt Stress Response of Arabidopsis thaliana. Int J Mol Sci. 2020 Oct 23;21(21):7879. https://doi.org/10.3390/ijms21217879. PMID: 33114207; PMCID: PMC7660671.\n",
    "\n",
    "[39] Thangapandian S, John S, Arooj M, Lee KW. Molecular dynamics simulation study and hybrid pharmacophore model development in human LTA4H inhibitor design. PLoS One. 2012;7(4):e34593.  https://doi.org/10.1371/journal.pone.0034593. Epub 2012 Apr 5. PMID: 22496831; PMCID: PMC3320645.\n",
    "\n",
    "[40] Ma L, Zhang J, Shi Y, Wang W, Ren Z, Xia M, Zhang Y, Yang M. Gene mutations in a Han Chinese Alzheimer's disease cohort. Brain Behav. 2019 Jan;9(1):e01180. https://doi.org/10.1002/brb3.1180. Epub 2018 Dec 14. PMID: 30549411; PMCID: PMC6346667. "
   ]
  }
 ],
 "metadata": {
  "kernelspec": {
   "display_name": "Python 3",
   "language": "python",
   "name": "python3"
  },
  "language_info": {
   "codemirror_mode": {
    "name": "ipython",
    "version": 3
   },
   "file_extension": ".py",
   "mimetype": "text/x-python",
   "name": "python",
   "nbconvert_exporter": "python",
   "pygments_lexer": "ipython3",
   "version": "3.7.5"
  }
 },
 "nbformat": 4,
 "nbformat_minor": 2
}
